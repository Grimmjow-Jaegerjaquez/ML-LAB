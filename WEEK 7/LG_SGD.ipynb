{
 "cells": [
  {
   "cell_type": "code",
   "execution_count": 1,
   "metadata": {},
   "outputs": [],
   "source": [
    "import numpy as np\n",
    "import pandas as pd\n",
    "import matplotlib.pyplot as plt"
   ]
  },
  {
   "cell_type": "markdown",
   "metadata": {},
   "source": [
    "Logistic Regression from Scratch"
   ]
  },
  {
   "cell_type": "code",
   "execution_count": 17,
   "metadata": {},
   "outputs": [],
   "source": [
    "df = pd.read_csv('data.csv')\n",
    "x1 = df['x1'].values\n",
    "x2 = df['x2'].values\n",
    "y = df['y'].values\n",
    "\n",
    "def sigmoid(z):\n",
    "    return 1 / (1 + np.exp(-z))\n",
    "\n",
    "learning_rate = 0.01\n",
    "itrs = 1000\n",
    "n = len(y)\n",
    "B0, B1, B2 = 0, 0, 0\n",
    "\n",
    "for itr in range(itrs):\n",
    "    z = B0 + B1 * x1 + B2 * x2\n",
    "    predictions = sigmoid(z)\n",
    "    error = y - predictions\n",
    "    B0 -= learning_rate * np.mean(error)\n",
    "    B1 -= learning_rate * np.mean(error * x1)\n",
    "    B2 -= learning_rate * np.mean(error * x2)\n",
    "    "
   ]
  },
  {
   "cell_type": "markdown",
   "metadata": {},
   "source": [
    "Apply Sigmoid function to get prediction and error"
   ]
  },
  {
   "cell_type": "code",
   "execution_count": 18,
   "metadata": {},
   "outputs": [],
   "source": [
    "z = B0 + B1 * x1 + B2 * x2\n",
    "predictions = sigmoid(z)\n",
    "error = -1 * (y * np.log(predictions) + (1 - y) * np.log(1 - predictions))"
   ]
  },
  {
   "cell_type": "markdown",
   "metadata": {},
   "source": [
    "Calculate accuracy"
   ]
  },
  {
   "cell_type": "code",
   "execution_count": 15,
   "metadata": {},
   "outputs": [],
   "source": [
    "threshold = 0.5\n",
    "predicted_labels = (predictions >= threshold).astype(int)\n",
    "accuracy = np.mean(predicted_labels == y)"
   ]
  },
  {
   "cell_type": "markdown",
   "metadata": {},
   "source": [
    "List model parameters and error for each instance"
   ]
  },
  {
   "cell_type": "code",
   "execution_count": 19,
   "metadata": {},
   "outputs": [
    {
     "name": "stdout",
     "output_type": "stream",
     "text": [
      "Instance 0: Error=-0.0\n",
      "Instance 1: Error=-0.0\n",
      "Instance 2: Error=-0.0\n",
      "Instance 3: Error=-0.0\n",
      "Instance 4: Error=-0.0\n",
      "Instance 5: Error=305.6088248064208\n",
      "Instance 6: Error=216.67788784283448\n",
      "Instance 7: Error=270.7192108334425\n",
      "Instance 8: Error=314.1841785104498\n",
      "Instance 9: Error=314.52505155303174\n",
      "Final B0 : -4.917851752092269\n",
      "Final B1 : -35.918774612556575\n",
      "Final B2 : -9.683533573484596\n"
     ]
    }
   ],
   "source": [
    "for i in range(n):\n",
    "    print(f\"Instance {i}: Error={error[i]}\")\n",
    "\n",
    "print(f\"Final B0 : {B0}\")\n",
    "print(f\"Final B1 : {B1}\")\n",
    "print(f\"Final B2 : {B2}\")"
   ]
  },
  {
   "cell_type": "markdown",
   "metadata": {},
   "source": [
    "Plot B1 vs. error and B2 vs. error"
   ]
  },
  {
   "cell_type": "code",
   "execution_count": 8,
   "metadata": {},
   "outputs": [
    {
     "data": {
      "image/png": "[encoded data removed]",
      "text/plain": [
       "<Figure size 864x360 with 2 Axes>"
      ]
     },
     "metadata": {
      "needs_background": "light"
     },
     "output_type": "display_data"
    }
   ],
   "source": [
    "plt.figure(figsize=(12, 5))\n",
    "\n",
    "plt.subplot(1, 2, 1)\n",
    "plt.scatter(B1 * x1, error, label='B1 vs. Error')\n",
    "plt.xlabel('B1 * X1')\n",
    "plt.ylabel('Error')\n",
    "plt.legend()\n",
    "\n",
    "plt.subplot(1, 2, 2)\n",
    "plt.scatter(B2 * x2, error, label='B2 vs. Error')\n",
    "plt.xlabel('B2 * X2')\n",
    "plt.ylabel('Error')\n",
    "plt.legend()\n",
    "\n",
    "plt.show()"
   ]
  }
 ],
 "metadata": {
  "kernelspec": {
   "display_name": "Python 3",
   "language": "python",
   "name": "python3"
  },
  "language_info": {
   "codemirror_mode": {
    "name": "ipython",
    "version": 3
   },
   "file_extension": ".py",
   "mimetype": "text/x-python",
   "name": "python",
   "nbconvert_exporter": "python",
   "pygments_lexer": "ipython3",
   "version": "3.8.10"
  },
  "orig_nbformat": 4
 },
 "nbformat": 4,
 "nbformat_minor": 2
}
