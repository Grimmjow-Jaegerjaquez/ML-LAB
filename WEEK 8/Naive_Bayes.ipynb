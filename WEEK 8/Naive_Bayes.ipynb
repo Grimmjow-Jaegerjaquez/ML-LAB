{
 "cells": [
  {
   "cell_type": "markdown",
   "metadata": {},
   "source": [
    "Question 1.a"
   ]
  },
  {
   "cell_type": "code",
   "execution_count": 2,
   "metadata": {},
   "outputs": [
    {
     "name": "stdout",
     "output_type": "stream",
     "text": [
      "The probability that the student is a hosteler given an A grade is: 0.6923\n"
     ]
    }
   ],
   "source": [
    "P_hosteler = 0.60  # Probability that a student is a hosteler\n",
    "P_day_scholar = 0.40  # Probability that a student is a day scholar\n",
    "P_A_given_hosteler = 0.30  # Probability of scoring an A grade given that the student is a hosteler\n",
    "P_A_given_day_scholar = 0.20  # Probability of scoring an A grade given that the student is a day scholar\n",
    "\n",
    "# Calculate the probability using Bayes' Theorem\n",
    "# P(H | A) = (P(A | H) * P(H)) / (P(A | H) * P(H) + P(A | D) * P(D))\n",
    "P_hosteler_given_A = (P_A_given_hosteler * P_hosteler) / ((P_A_given_hosteler * P_hosteler) + (P_A_given_day_scholar * P_day_scholar))\n",
    "\n",
    "# Display the result\n",
    "print(f\"The probability that the student is a hosteler given an A grade is: {P_hosteler_given_A:.4f}\")"
   ]
  },
  {
   "cell_type": "markdown",
   "metadata": {},
   "source": [
    "1.b"
   ]
  },
  {
   "cell_type": "code",
   "execution_count": 3,
   "metadata": {},
   "outputs": [
    {
     "name": "stdout",
     "output_type": "stream",
     "text": [
      "The probability of having the disease given a positive test result is: 0.3333\n"
     ]
    }
   ],
   "source": [
    "P_Disease = 0.01\n",
    "P_No_Disease = 1 - P_Disease\n",
    "P_Positive_given_Disease = 0.99\n",
    "P_Positive_given_No_Disease = 0.02\n",
    "\n",
    "P_Disease_given_Positive = (P_Positive_given_Disease * P_Disease) / (\n",
    "    P_Positive_given_Disease * P_Disease + P_Positive_given_No_Disease * P_No_Disease\n",
    ")\n",
    "\n",
    "print(f\"The probability of having the disease given a positive test result is: {P_Disease_given_Positive:.4f}\")\n"
   ]
  },
  {
   "cell_type": "markdown",
   "metadata": {},
   "source": [
    "Naive Bayes Classifier"
   ]
  },
  {
   "cell_type": "code",
   "execution_count": 10,
   "metadata": {},
   "outputs": [],
   "source": [
    "import csv"
   ]
  },
  {
   "cell_type": "code",
   "execution_count": 11,
   "metadata": {},
   "outputs": [],
   "source": [
    "# Load the data from the CSV file\n",
    "def load_data(file_path):\n",
    "    data = []\n",
    "    with open(file_path, 'r') as file:\n",
    "        csv_reader = csv.DictReader(file)\n",
    "        for row in csv_reader:\n",
    "            data.append(row)\n",
    "    return data\n",
    "\n",
    "# Split the data into training and testing sets\n",
    "def split_data(data, split_ratio):\n",
    "    split_index = int(len(data) * split_ratio)\n",
    "    return data[:split_index], data[split_index:]\n",
    "\n",
    "# Calculate the probabilities for each class and feature\n",
    "def calculate_probabilities(train_data):\n",
    "    class_probs = {}\n",
    "    feature_probs = {}\n",
    "\n",
    "    total_samples = len(train_data)\n",
    "    for row in train_data:\n",
    "        label = row['Play']\n",
    "        if label not in class_probs:\n",
    "            class_probs[label] = 0\n",
    "        class_probs[label] += 1\n",
    "\n",
    "        for feature in row:\n",
    "            if feature != 'Play':\n",
    "                if (feature, row[feature], label) not in feature_probs:\n",
    "                    feature_probs[(feature, row[feature], label)] = 0\n",
    "                feature_probs[(feature, row[feature], label)] += 1\n",
    "\n",
    "    for label in class_probs:\n",
    "        class_probs[label] /= total_samples\n",
    "\n",
    "    for feature_tuple in feature_probs:\n",
    "        feature_probs[feature_tuple] /= class_probs[feature_tuple[2]]\n",
    "\n",
    "    return class_probs, feature_probs\n",
    "\n",
    "# Calculate the probability of a given class for a set of features\n",
    "def calculate_class_probability(class_probs, feature_probs, features, label):\n",
    "    probability = class_probs[label]\n",
    "    for feature, value in features.items():\n",
    "        if (feature, value, label) in feature_probs:\n",
    "            probability *= feature_probs[(feature, value, label)]\n",
    "    return probability\n",
    "\n",
    "# Predict the class for a set of features\n",
    "def predict(class_probs, feature_probs, features):\n",
    "    best_label = None\n",
    "    best_prob = -1\n",
    "\n",
    "    for label in class_probs:\n",
    "        probability = calculate_class_probability(class_probs, feature_probs, features, label)\n",
    "        if probability > best_prob:\n",
    "            best_prob = probability\n",
    "            best_label = label\n",
    "\n",
    "    return best_label\n",
    "\n",
    "# Calculate accuracy, precision, and recall\n",
    "def evaluate(test_data, class_probs, feature_probs):\n",
    "    true_positives = 0\n",
    "    false_positives = 0\n",
    "    true_negatives = 0\n",
    "    false_negatives = 0\n",
    "\n",
    "    for row in test_data:\n",
    "        actual = row['Play']\n",
    "        features = {feature: row[feature] for feature in row if feature != 'Play'}\n",
    "        predicted = predict(class_probs, feature_probs, features)\n",
    "\n",
    "        if actual == 'Yes' and predicted == 'Yes':\n",
    "            true_positives += 1\n",
    "        elif actual == 'No' and predicted == 'Yes':\n",
    "            false_positives += 1\n",
    "        elif actual == 'No' and predicted == 'No':\n",
    "            true_negatives += 1\n",
    "        elif actual == 'Yes' and predicted == 'No':\n",
    "            false_negatives += 1\n",
    "\n",
    "    accuracy = (true_positives + true_negatives) / len(test_data)\n",
    "    precision = true_positives / (true_positives + false_positives)\n",
    "    recall = true_positives / (true_positives + false_negatives)\n",
    "\n",
    "    return accuracy, precision, recall\n",
    "\n"
   ]
  },
  {
   "cell_type": "code",
   "execution_count": 12,
   "metadata": {},
   "outputs": [],
   "source": [
    "def main():\n",
    "    file_path = 'data.csv'\n",
    "    data = load_data(file_path)\n",
    "    train_data, test_data = split_data(data, split_ratio=0.8)\n",
    "\n",
    "    class_probs, feature_probs = calculate_probabilities(train_data)\n",
    "    accuracy, precision, recall = evaluate(test_data, class_probs, feature_probs)\n",
    "\n",
    "    print(f'Accuracy: {accuracy:.2f}')\n",
    "    print(f'Precision: {precision:.2f}')\n",
    "    print(f'Recall: {recall:.2f}')\n",
    "\n",
    "    # Predict if the Player should play for sunny weather\n",
    "    features_to_predict = {'Weather': 'Sunny'}\n",
    "    prediction = predict(class_probs, feature_probs, features_to_predict)\n",
    "    print(f'Prediction for Sunny Weather: {prediction}')\n"
   ]
  },
  {
   "cell_type": "code",
   "execution_count": 17,
   "metadata": {},
   "outputs": [
    {
     "name": "stdout",
     "output_type": "stream",
     "text": [
      "Accuracy: 0.67\n",
      "Precision: 0.67\n",
      "Recall: 1.00\n",
      "Prediction for Sunny Weather: Yes\n"
     ]
    }
   ],
   "source": [
    "if __name__ == '__main__':\n",
    "    main()"
   ]
  },
  {
   "cell_type": "markdown",
   "metadata": {},
   "source": [
    "Additional Question"
   ]
  },
  {
   "cell_type": "code",
   "execution_count": 15,
   "metadata": {},
   "outputs": [],
   "source": [
    "import pandas as pd\n",
    "\n",
    "training_data = {\n",
    "    'text document':['I love this sandwhich', 'this is an amazing place','I feel very good about these beers', 'this is my best work','what an awesom view', 'I do not like this restaurent','I am tired of this stuff', 'I cant deal with this','he is my sworn enemy', 'my boss is horible', 'this is an awesom place', 'I do not like the taste of this juice', 'I love to dance', 'I am sick and tired of this place','what a great holiday', 'this is a bad locality to stay', 'we will have good fun tomorrow', 'I went to my enemy\\'s home today'],\n",
    "    'label': ['pos','pos','pos','pos','pos','neg','neg','neg','neg','neg','pos','neg','pos','neg','pos','neg','pos','neg']\n",
    "}\n",
    "\n",
    "df = pd.DataFrame(training_data)\n",
    "df.to_csv('centement.csv')"
   ]
  },
  {
   "cell_type": "code",
   "execution_count": 16,
   "metadata": {},
   "outputs": [
    {
     "name": "stdout",
     "output_type": "stream",
     "text": [
      "Accuracy: 1.0\n",
      "Precision: 1.0\n",
      "Recall: 1.0\n"
     ]
    }
   ],
   "source": [
    "from sklearn.model_selection import train_test_split\n",
    "from sklearn.feature_extraction.text import CountVectorizer\n",
    "from sklearn.naive_bayes import MultinomialNB\n",
    "from sklearn.metrics import accuracy_score, precision_score, recall_score\n",
    "\n",
    "# Load the dataset from the CSV file\n",
    "df = pd.read_csv('centement.csv')\n",
    "\n",
    "# Split the data into training and testing sets\n",
    "X_train, X_test, y_train, y_test = train_test_split(df['text document'], df['label'], test_size=0.2, random_state=42)\n",
    "\n",
    "# Create a CountVectorizer to convert text data into numerical features\n",
    "vectorizer = CountVectorizer()\n",
    "X_train_vectorized = vectorizer.fit_transform(X_train)\n",
    "X_test_vectorized = vectorizer.transform(X_test)\n",
    "\n",
    "# Create a Multinomial Naïve Bayes classifier\n",
    "classifier = MultinomialNB()\n",
    "classifier.fit(X_train_vectorized, y_train)\n",
    "\n",
    "# Make predictions on the test set\n",
    "y_pred = classifier.predict(X_test_vectorized)\n",
    "\n",
    "# Calculate accuracy, precision, and recall\n",
    "accuracy = accuracy_score(y_test, y_pred)\n",
    "precision = precision_score(y_test, y_pred, pos_label='pos')\n",
    "recall = recall_score(y_test, y_pred, pos_label='pos')\n",
    "\n",
    "# Print the results\n",
    "print(\"Accuracy:\", accuracy)\n",
    "print(\"Precision:\", precision)\n",
    "print(\"Recall:\", recall)\n"
   ]
  }
 ],
 "metadata": {
  "kernelspec": {
   "display_name": "Python 3",
   "language": "python",
   "name": "python3"
  },
  "language_info": {
   "codemirror_mode": {
    "name": "ipython",
    "version": 3
   },
   "file_extension": ".py",
   "mimetype": "text/x-python",
   "name": "python",
   "nbconvert_exporter": "python",
   "pygments_lexer": "ipython3",
   "version": "3.8.10"
  },
  "orig_nbformat": 4
 },
 "nbformat": 4,
 "nbformat_minor": 2
}
