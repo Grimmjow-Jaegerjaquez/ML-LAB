{
 "cells": [
  {
   "cell_type": "code",
   "execution_count": 1,
   "metadata": {},
   "outputs": [],
   "source": [
    "import numpy as np\n",
    "import pandas as pd"
   ]
  },
  {
   "cell_type": "markdown",
   "metadata": {},
   "source": [
    "Q1"
   ]
  },
  {
   "cell_type": "code",
   "execution_count": 10,
   "metadata": {},
   "outputs": [
    {
     "name": "stdout",
     "output_type": "stream",
     "text": [
      "[[0 1 2]\n",
      " [3 4 5]\n",
      " [6 7 8]]\n"
     ]
    }
   ],
   "source": [
    "arr1 = np.array([0, 1, 2, 3, 4, 5, 6, 7, 8])\n",
    "arr2 = np.array([21, 7, 3, 45, 10, 29, 55, 4, 37, 18])\n",
    "print(arr1.reshape(3,3))"
   ]
  },
  {
   "cell_type": "markdown",
   "metadata": {},
   "source": [
    "Q2"
   ]
  },
  {
   "cell_type": "code",
   "execution_count": 9,
   "metadata": {},
   "outputs": [
    {
     "name": "stdout",
     "output_type": "stream",
     "text": [
      "[ 0 -1  2 -1  4 -1  6 -1  8]\n"
     ]
    }
   ],
   "source": [
    "i = 0\n",
    "for i in arr1:\n",
    "    if arr1[i] % 2 != 0:\n",
    "        arr1[i] = -1\n",
    "    i = i + 1\n",
    "\n",
    "print(arr1)"
   ]
  },
  {
   "cell_type": "markdown",
   "metadata": {},
   "source": [
    "Q3"
   ]
  },
  {
   "cell_type": "code",
   "execution_count": 15,
   "metadata": {},
   "outputs": [
    {
     "name": "stdout",
     "output_type": "stream",
     "text": [
      "(array([1, 2, 4, 5, 6, 7, 8, 9]),)\n",
      "(array([0]),)\n"
     ]
    }
   ],
   "source": [
    "x = np.array([21, 64, 86, 22, 74, 55, 81, 79, 90, 89])\n",
    "y = np.array([21, 7, 3, 45, 10, 29, 55, 4, 37, 18])\n",
    "\n",
    "print(np.where(x > y))\n",
    "print(np.where(x == y))"
   ]
  },
  {
   "cell_type": "markdown",
   "metadata": {},
   "source": [
    "Q4"
   ]
  },
  {
   "cell_type": "code",
   "execution_count": 40,
   "metadata": {},
   "outputs": [
    {
     "name": "stdout",
     "output_type": "stream",
     "text": [
      "The extracted array:\n",
      "[[ 0  1  2  3]\n",
      " [20 21 22 23]\n",
      " [40 41 42 43]\n",
      " [60 61 62 63]\n",
      " [80 81 82 83]]\n"
     ]
    }
   ],
   "source": [
    "assign_4 = np.arange(100).reshape(5,-1)\n",
    "\n",
    "print(\"The extracted array:\")\n",
    "print(assign_4[:,:4])"
   ]
  },
  {
   "cell_type": "markdown",
   "metadata": {},
   "source": [
    "Additional Q1"
   ]
  },
  {
   "cell_type": "code",
   "execution_count": 19,
   "metadata": {},
   "outputs": [
    {
     "name": "stdout",
     "output_type": "stream",
     "text": [
      "[35 36 34 35 40 38 32 30 39 31]\n"
     ]
    }
   ],
   "source": [
    "adq1 = np.random.randint(30, 41, size = (10))\n",
    "\n",
    "print(adq1)"
   ]
  },
  {
   "cell_type": "markdown",
   "metadata": {},
   "source": [
    "Additional Q2.(i)"
   ]
  },
  {
   "cell_type": "code",
   "execution_count": 28,
   "metadata": {},
   "outputs": [
    {
     "name": "stdout",
     "output_type": "stream",
     "text": [
      "[[ 8 10 13]\n",
      " [ 8 10 12]\n",
      " [ 8 10 12]]\n",
      "[[-6 -6 -7]\n",
      " [ 0  0  0]\n",
      " [ 6  6  6]]\n"
     ]
    }
   ],
   "source": [
    "a = [[1, 2, 3],\n",
    "     [4, 5, 6],\n",
    "     [7, 8, 9]]\n",
    "\n",
    "b = [[7, 8, 10],\n",
    "     [4, 5, 6],\n",
    "     [1, 2, 3]]\n",
    "\n",
    "c = np.add(a, b)\n",
    "e = np.subtract(a, b)\n",
    "\n",
    "print(c)\n",
    "print(e)"
   ]
  },
  {
   "cell_type": "markdown",
   "metadata": {},
   "source": [
    "Additional Q2.(ii)"
   ]
  },
  {
   "cell_type": "code",
   "execution_count": 25,
   "metadata": {},
   "outputs": [
    {
     "name": "stdout",
     "output_type": "stream",
     "text": [
      "45\n",
      "[12 15 19]\n",
      "[31 30 30]\n"
     ]
    }
   ],
   "source": [
    "print(np.sum(a))\n",
    "print(np.sum(b, axis = 0))\n",
    "print(np.sum(c, axis = 1))"
   ]
  },
  {
   "cell_type": "markdown",
   "metadata": {},
   "source": [
    "Additional Q2.(iii)"
   ]
  },
  {
   "cell_type": "code",
   "execution_count": 29,
   "metadata": {},
   "outputs": [
    {
     "name": "stdout",
     "output_type": "stream",
     "text": [
      "[[ 18  24  31]\n",
      " [ 54  69  88]\n",
      " [ 90 114 145]]\n"
     ]
    }
   ],
   "source": [
    "d = np.dot(a, b)\n",
    "print(d)"
   ]
  },
  {
   "cell_type": "markdown",
   "metadata": {},
   "source": [
    "Additional Q2.(iv)"
   ]
  },
  {
   "cell_type": "code",
   "execution_count": 39,
   "metadata": {},
   "outputs": [
    {
     "name": "stdout",
     "output_type": "stream",
     "text": [
      "[[ 8 10 13]\n",
      " [ 8 10 12]\n",
      " [ 8 10 12]]\n",
      "[[-6 -6 -7]\n",
      " [ 0  0  0]\n",
      " [ 6  6  6]]\n"
     ]
    }
   ],
   "source": [
    "print(np.reshape(np.sort(np.reshape(c))))\n",
    "\n",
    "print(e)"
   ]
  },
  {
   "cell_type": "markdown",
   "metadata": {},
   "source": [
    "Additional Q2.(v)"
   ]
  },
  {
   "cell_type": "code",
   "execution_count": 38,
   "metadata": {},
   "outputs": [
    {
     "name": "stdout",
     "output_type": "stream",
     "text": [
      "[[-6  0  6]\n",
      " [-6  0  6]\n",
      " [-7  0  6]]\n"
     ]
    }
   ],
   "source": [
    "print(np.transpose(e))"
   ]
  },
  {
   "cell_type": "markdown",
   "metadata": {},
   "source": [
    "Reading CSV file"
   ]
  },
  {
   "cell_type": "code",
   "execution_count": 55,
   "metadata": {},
   "outputs": [],
   "source": [
    "import csv\n",
    "import pandas as pd"
   ]
  },
  {
   "cell_type": "code",
   "execution_count": 43,
   "metadata": {},
   "outputs": [
    {
     "name": "stdout",
     "output_type": "stream",
     "text": [
      "['Programming language', ' Designed by', ' Appeared', ' Extension']\n",
      "['Python', ' Guido van Rossum', ' 1991', ' .py']\n",
      "['Java', ' James Gosling', ' 1995', ' .java']\n",
      "['C++', ' Bjarne Stroustrup', ' 1983', ' .cpp']\n"
     ]
    }
   ],
   "source": [
    "with open('sample.csv') as f:\n",
    "    data = csv.reader(f)\n",
    "    for row in data:\n",
    "        print(row)"
   ]
  },
  {
   "cell_type": "markdown",
   "metadata": {},
   "source": [
    "Reading a CSV file as Dictionary"
   ]
  },
  {
   "cell_type": "code",
   "execution_count": 45,
   "metadata": {},
   "outputs": [
    {
     "name": "stdout",
     "output_type": "stream",
     "text": [
      "OrderedDict([('Programming language', 'Python'), (' Designed by', ' Guido van Rossum'), (' Appeared', ' 1991'), (' Extension', ' .py')])\n",
      "OrderedDict([('Programming language', 'Java'), (' Designed by', ' James Gosling'), (' Appeared', ' 1995'), (' Extension', ' .java')])\n",
      "OrderedDict([('Programming language', 'C++'), (' Designed by', ' Bjarne Stroustrup'), (' Appeared', ' 1983'), (' Extension', ' .cpp')])\n"
     ]
    }
   ],
   "source": [
    "reader = csv.DictReader(open('sample.csv'))\n",
    "for raw in reader:\n",
    "    print(raw)"
   ]
  },
  {
   "cell_type": "markdown",
   "metadata": {},
   "source": [
    "Writing CSV Files"
   ]
  },
  {
   "cell_type": "code",
   "execution_count": 54,
   "metadata": {},
   "outputs": [],
   "source": [
    "with open('write.csv', 'w') as file:\n",
    "    writer = csv.writer(file, delimiter=',')\n",
    "    writer.writerow(['Programming language', 'Designed by', 'Appeared', 'Extension'])\n",
    "    writer.writerow(['Python', 'Guido Van Rossum', '1991', '.py'])\n",
    "    writer.writerow(['Java', 'James Gosling', '1995', '.java'])\n",
    "    writer.writerow(['C++', 'Bjarne Stroupstrup','1985','.cpp'])    "
   ]
  },
  {
   "cell_type": "markdown",
   "metadata": {},
   "source": [
    "Reading CSV file with pandas "
   ]
  },
  {
   "cell_type": "code",
   "execution_count": 56,
   "metadata": {},
   "outputs": [
    {
     "name": "stdout",
     "output_type": "stream",
     "text": [
      "  Programming language         Designed by   Appeared  Extension\n",
      "0               Python    Guido van Rossum       1991        .py\n",
      "1                 Java       James Gosling       1995      .java\n",
      "2                  C++   Bjarne Stroustrup       1983       .cpp\n"
     ]
    }
   ],
   "source": [
    "result = pd.read_csv('sample.csv')\n",
    "print(result)"
   ]
  },
  {
   "cell_type": "markdown",
   "metadata": {},
   "source": [
    "Writing CSV file using Pandas"
   ]
  },
  {
   "cell_type": "code",
   "execution_count": 59,
   "metadata": {},
   "outputs": [],
   "source": [
    "C = pd.read_csv('sample.csv')\n",
    "C.to_csv('new.csv', index= None)"
   ]
  }
 ],
 "metadata": {
  "kernelspec": {
   "display_name": "Python 3",
   "language": "python",
   "name": "python3"
  },
  "language_info": {
   "codemirror_mode": {
    "name": "ipython",
    "version": 3
   },
   "file_extension": ".py",
   "mimetype": "text/x-python",
   "name": "python",
   "nbconvert_exporter": "python",
   "pygments_lexer": "ipython3",
   "version": "3.7.0"
  },
  "orig_nbformat": 4
 },
 "nbformat": 4,
 "nbformat_minor": 2
}
